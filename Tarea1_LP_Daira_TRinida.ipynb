{
  "nbformat": 4,
  "nbformat_minor": 0,
  "metadata": {
    "colab": {
      "provenance": [],
      "include_colab_link": true
    },
    "kernelspec": {
      "name": "python3",
      "display_name": "Python 3"
    },
    "language_info": {
      "name": "python"
    }
  },
  "cells": [
    {
      "cell_type": "markdown",
      "metadata": {
        "id": "view-in-github",
        "colab_type": "text"
      },
      "source": [
        "<a href=\"https://colab.research.google.com/github/awerfghfs/Daira_Trinidad/blob/main/Untitled0.ipynb\" target=\"_parent\"><img src=\"https://colab.research.google.com/assets/colab-badge.svg\" alt=\"Open In Colab\"/></a>"
      ]
    },
    {
      "cell_type": "code",
      "execution_count": null,
      "metadata": {
        "colab": {
          "base_uri": "https://localhost:8080/"
        },
        "id": "ZGAUV8eoWbIM",
        "outputId": "4248b358-fbd5-43dc-c61d-ff03a209731d"
      },
      "outputs": [
        {
          "output_type": "stream",
          "name": "stdout",
          "text": [
            "Uno, dos, tres...\n",
            "... cuatro, cinco, seis.\n"
          ]
        }
      ],
      "source": [
        "#tara1\n",
        "#BUG\n",
        "print(\"Uno, dos, tres...\")\n",
        "print(\"... cuatro, cinco, seis.\")"
      ]
    },
    {
      "cell_type": "markdown",
      "source": [],
      "metadata": {
        "id": "TPWoFzD3dYz8"
      }
    },
    {
      "cell_type": "code",
      "source": [
        "# tarea2\n",
        "# POEMA\n",
        "w = \"La noche está estrellada, y tiritan, azules, los astros, a lo lejos\"\n",
        "x = \"Puedo escribir los versos más tristes esta noche.\"\n",
        "y = \"Escribir, por ejemplo:\"\n",
        "z = \"El viento de la noche gira en el cielo y canta.\"\n",
        "espacio = \" \"\n",
        "\n",
        "print(x)\n",
        "print(y + espacio + w)\n",
        "print(z)"
      ],
      "metadata": {
        "colab": {
          "base_uri": "https://localhost:8080/"
        },
        "id": "-zOyWyUYWhpo",
        "outputId": "1e7258bf-ac49-473c-a5b9-9ecb2fa26a91"
      },
      "execution_count": null,
      "outputs": [
        {
          "output_type": "stream",
          "name": "stdout",
          "text": [
            "Puedo escribir los versos más tristes esta noche.\n",
            "Escribir, por ejemplo: La noche está estrellada, y tiritan, azules, los astros, a lo lejos\n",
            "El viento de la noche gira en el cielo y canta.\n"
          ]
        }
      ]
    },
    {
      "cell_type": "code",
      "source": [
        "#PROMEDIO\n",
        "#Tarea3\n",
        "import math\n",
        "\n",
        "fst_prac = 16  # First practice\n",
        "snd_prac = 13  # Second practice\n",
        "trd_prac = 19  # Third practice\n",
        "fth_prac = 8   # Fourth practice\n",
        "\n",
        "prom_prac = (fst_prac + snd_prac + trd_prac + fth_prac) / 4\n",
        "prom_redondeado = math.ceil(prom_prac)\n",
        "\n",
        "# imprimir\n",
        "print(\"El promedio redondeado de las prácticas es:\", prom_redondeado)"
      ],
      "metadata": {
        "colab": {
          "base_uri": "https://localhost:8080/"
        },
        "id": "GBxJNPP-XKXv",
        "outputId": "72c3857c-2915-469d-fb49-52c25f92e4eb"
      },
      "execution_count": null,
      "outputs": [
        {
          "output_type": "stream",
          "name": "stdout",
          "text": [
            "El promedio redondeado de las prácticas es: 14\n"
          ]
        }
      ]
    }
  ]
}
